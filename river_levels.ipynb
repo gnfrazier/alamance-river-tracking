{
 "cells": [
  {
   "cell_type": "markdown",
   "metadata": {},
   "source": [
    "# Haw River Levels\n",
    "Data feed from [USGS REST API](https://waterservices.usgs.gov/rest/IV-Service.html)"
   ]
  },
  {
   "cell_type": "code",
   "execution_count": null,
   "metadata": {},
   "outputs": [],
   "source": [
    "import ipyleaflet as lf\n",
    "import ipywidgets as widgets\n",
    "import pandas as pd\n",
    "import requests"
   ]
  },
  {
   "cell_type": "code",
   "execution_count": null,
   "metadata": {},
   "outputs": [],
   "source": [
    "url = 'https://waterservices.usgs.gov/nwis/iv/?format=json' + \\\n",
    "        '&sites=02096960,02096500' + \\\n",
    "        '&startDT=2018-09-17' + \\\n",
    "        '&endDT=2018-09-19' + \\\n",
    "        '&parameterCd=00060,00065' + \\\n",
    "        '&siteStatus=all'\n",
    "\n",
    "def get_location_data(location):\n",
    "    '''Extracts location data from a timeSeries data array.\n",
    "    Returns a dictionary of site data and a dataframe of\n",
    "    the metric for that location.'''\n",
    "    \n",
    "    source = location['sourceInfo']\n",
    "    geo_info = source['geoLocation']['geogLocation']\n",
    "\n",
    "    site_data = {\n",
    "    'site_name':source['siteName'],\n",
    "    'site_code':source['siteCode'][0]['value'],\n",
    "    'network':source['siteCode'][0]['network'],\n",
    "    'projection':geo_info['srs'],\n",
    "    'latitude':geo_info['latitude'],\n",
    "    'longitude':geo_info['longitude'],\n",
    "    'coordinates':(geo_info['latitude'],\n",
    "                   geo_info['longitude']),\n",
    "            }\n",
    "    # Time series array to time series dataframe\n",
    "    metrics = pd.DataFrame.from_records(location['values'][0]['value'])\n",
    "    metrics.set_index('dateTime', inplace=True)\n",
    "    \n",
    "    return (site_data, metrics)\n",
    "\n"
   ]
  },
  {
   "cell_type": "code",
   "execution_count": null,
   "metadata": {},
   "outputs": [],
   "source": [
    "# Future Main Loop\n",
    "\n",
    "data = requests.get(url)\n",
    "raw_data = data.json()\n",
    "time_series = raw_data['value']['timeSeries']\n",
    "\n",
    "for location in time_series:\n",
    "    site_data, metrics = get_location_data(location) \n",
    "    \n",
    "    \n",
    "    "
   ]
  }
 ],
 "metadata": {
  "kernelspec": {
   "display_name": "Python 3",
   "language": "python",
   "name": "python3"
  },
  "language_info": {
   "codemirror_mode": {
    "name": "ipython",
    "version": 3
   },
   "file_extension": ".py",
   "mimetype": "text/x-python",
   "name": "python",
   "nbconvert_exporter": "python",
   "pygments_lexer": "ipython3",
   "version": "3.6.5"
  }
 },
 "nbformat": 4,
 "nbformat_minor": 2
}
